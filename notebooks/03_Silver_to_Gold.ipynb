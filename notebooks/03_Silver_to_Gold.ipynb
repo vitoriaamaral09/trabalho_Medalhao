{
 "cells": [
  {
   "cell_type": "code",
   "execution_count": 0,
   "metadata": {
    "application/vnd.databricks.v1+cell": {
     "cellMetadata": {
      "byteLimit": 2048000,
      "rowLimit": 10000
     },
     "inputWidgets": {},
     "nuid": "d725f017-67d0-4041-b61d-b8f7133fabb4",
     "showTitle": false,
     "tableResultSettingsMap": {},
     "title": ""
    }
   },
   "outputs": [],
   "source": [
    "# Alteração\n",
    "\n",
    "from pyspark.sql.functions import col, sum, round, date_trunc, year, month, lit, current_timestamp, count, avg\n",
    "\n",
    "# Definições de Variáveis\n",
    "CATALOG_NAME = \"workspace\"\n",
    "SCHEMA_NAME = \"projeto_medalhao_ecommerce\"\n",
    "\n",
    "print(f\"Iniciando Setup e agregações para o Schema: {SCHEMA_NAME}\")"
   ]
  },
  {
   "cell_type": "code",
   "execution_count": 0,
   "metadata": {
    "application/vnd.databricks.v1+cell": {
     "cellMetadata": {
      "byteLimit": 2048000,
      "rowLimit": 10000
     },
     "inputWidgets": {},
     "nuid": "b32caa7a-69a8-4ca1-9594-d56a5bef8fc1",
     "showTitle": false,
     "tableResultSettingsMap": {},
     "title": ""
    }
   },
   "outputs": [],
   "source": [
    "# Alteração\n",
    "\n",
    "#  Célula 3: Pipeline Principal (Contém o GOLD 1 e GOLD 2)\n",
    "\n",
    "# Lemos as tabelas usando o nome do Schema\n",
    "df_clientes = spark.read.table(f\"{SCHEMA_NAME}.silver_clientes\")\n",
    "df_pedidos = spark.read.table(f\"{SCHEMA_NAME}.silver_pedidos\")\n",
    "df_itens_pedido = spark.read.table(f\"{SCHEMA_NAME}.silver_itens_pedido\")\n",
    "df_produtos = spark.read.table(f\"{SCHEMA_NAME}.silver_produtos\")\n",
    "\n",
    "\n",
    "# ==============================================================================\n",
    "# PASSO 1: CRIAÇÃO DO DATAFRAME BASE COM MÉTRICAS (DF_FATO_CALCULADA)\n",
    "# ==============================================================================\n",
    "\n",
    "# 1.1 Combinar Pedidos (Fato) com Itens de Pedido\n",
    "df_fato_base = df_itens_pedido.alias(\"itens\") \\\n",
    "    .join(df_pedidos.alias(\"pedidos\"), col(\"itens.id_pedido\") == col(\"pedidos.id_pedido\"), \"inner\") \\\n",
    "    .select(\n",
    "        col(\"itens.id_pedido\"),\n",
    "        col(\"itens.id_produto\"),\n",
    "        col(\"pedidos.id_cliente\"),\n",
    "        col(\"pedidos.data_pedido\"), \n",
    "        col(\"itens.quantity\").alias(\"quantidade\"), \n",
    "        col(\"itens.preco\").alias(\"preco_unitario\") \n",
    "    )\n",
    "\n",
    "# 1.2 Calcular Receita e Adicionar Colunas Temporais (ano, mes)\n",
    "df_fato_calculada = df_fato_base \\\n",
    "    .withColumn(\"receita_total\", round(col(\"quantidade\") * col(\"preco_unitario\"), 2)) \\\n",
    "    .withColumn(\"ano\", year(col(\"data_pedido\"))) \\\n",
    "    .withColumn(\"mes\", month(col(\"data_pedido\"))) \\\n",
    "    .withColumn(\"data_chave\", date_trunc(\"day\", col(\"data_pedido\")))\n",
    "\n",
    "\n",
    "# ==============================================================================\n",
    "# PASSO 2: CRIAÇÃO DO GOLD 1 (Fato Detalhada)\n",
    "# ==============================================================================\n",
    "\n",
    "df_final_gold = df_fato_calculada.alias(\"fato\") \\\n",
    "    .join(df_produtos.alias(\"prod\"), col(\"fato.id_produto\") == col(\"prod.id_produto\"), \"left\") \\\n",
    "    .join(df_clientes.alias(\"cli\"), col(\"fato.id_cliente\") == col(\"cli.id_cliente\"), \"left\") \\\n",
    "    .select(\n",
    "        # Adicionar o ID do Pedido para que possa ser contado no GOLD 2\n",
    "        col(\"fato.id_pedido\"), \n",
    "\n",
    "        # Métricas\n",
    "        col(\"fato.receita_total\"), col(\"fato.quantidade\"), col(\"fato.preco_unitario\"),\n",
    "        \n",
    "        # Dimensões Tempo\n",
    "        col(\"fato.data_chave\").alias(\"data_venda\"), col(\"fato.ano\"), col(\"fato.mes\"),\n",
    "\n",
    "        # Dimensões Produto\n",
    "        col(\"prod.id_produto\"), col(\"prod.categoria_produto\"),\n",
    "        \n",
    "        # Dimensões Cliente\n",
    "        col(\"cli.id_cliente\"), col(\"cli.nome_cliente\"), col(\"cli.pais\"),\n",
    "        \n",
    "        # Metadado\n",
    "        lit(\"faturamento\").alias(\"regra_negocio_gold\"),\n",
    "        current_timestamp().alias(\"processamento_gold_ts\")\n",
    "    )\n",
    "\n",
    "\n",
    "# ==============================================================================\n",
    "# PASSO 3: CRIAÇÃO DO GOLD 2 (Agregado para BI)\n",
    "# ==============================================================================\n",
    "\n",
    "# CRIAÇÃO do DataFrame df_agregado_mensal (Deve vir antes da escrita)\n",
    "df_agregado_mensal = df_final_gold \\\n",
    "    .groupBy(\"ano\", \"mes\", \"categoria_produto\") \\\n",
    "    .agg(\n",
    "        sum(col(\"receita_total\")).alias(\"receita_mensal_total\"),\n",
    "        count(col(\"id_pedido\")).alias(\"total_pedidos_mes\"),\n",
    "        avg(col(\"receita_total\")).alias(\"ticket_medio\")\n",
    "    )\n",
    "\n",
    "# Escrita GOLD 2\n",
    "df_agregado_mensal.write.format(\"delta\") \\\n",
    "    .option(\"overwriteSchema\", \"true\") \\\n",
    "    .mode(\"overwrite\") \\\n",
    "    .saveAsTable(f\"{SCHEMA_NAME}.gold_sumario_mensal_bi\")\n",
    "print(\"-> Tabela GOLD: gold_sumario_mensal_bi (Agregado para BI) criada/atualizada com sucesso.\")"
   ]
  }
 ],
 "metadata": {
  "application/vnd.databricks.v1+notebook": {
   "computePreferences": {
    "hardware": {
     "accelerator": null,
     "gpuPoolId": null,
     "memory": null
    }
   },
   "dashboards": [],
   "environmentMetadata": {
    "base_environment": "",
    "environment_version": "4"
   },
   "inputWidgetPreferences": null,
   "language": "python",
   "notebookMetadata": {
    "pythonIndentUnit": 4
   },
   "notebookName": "03_Silver_to_Gold",
   "widgets": {}
  },
  "language_info": {
   "name": "python"
  }
 },
 "nbformat": 4,
 "nbformat_minor": 0
}
